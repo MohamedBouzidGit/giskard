{
 "cells": [
  {
   "cell_type": "markdown",
   "metadata": {},
   "source": [
    "# <div style=\"text-align: center\">Email classifier by theme </div>\n",
    "\n",
    "\n",
    "### <div style=\"text-align: right\"> by Mohamed Bouzid </div>\n",
    "\n",
    "\n",
    "\n",
    "\n",
    "# Contents :\n",
    "\n",
    "[I. Dataset](#1)\n",
    "\n",
    "[II. Exploratory Data Analysis](#2)\n",
    "\n",
    "[III. Pre-processing](#3)\n",
    "\n",
    "[IV. Modeling](#4)"
   ]
  },
  {
   "cell_type": "markdown",
   "metadata": {},
   "source": [
    "<a id=\"1\"> </a>\n",
    "# I. Dataset"
   ]
  },
  {
   "cell_type": "markdown",
   "metadata": {},
   "source": [
    "### Load libraries used in this project"
   ]
  },
  {
   "cell_type": "code",
   "execution_count": 509,
   "metadata": {},
   "outputs": [],
   "source": [
    "# data manipulation and information\n",
    "import numpy as np\n",
    "import pandas as pd\n",
    "import time\n",
    "import warnings\n",
    "warnings.filterwarnings('ignore')\n",
    "\n",
    "# data visualization\n",
    "import matplotlib.pyplot as plt\n",
    "import seaborn as sns\n",
    "\n",
    "# transformation, encoding\n",
    "from sklearn.preprocessing import LabelEncoder\n",
    "from sklearn.feature_extraction.text import CountVectorizer\n",
    "from sklearn.feature_extraction.text import TfidfVectorizer\n",
    "from sklearn.model_selection import cross_validate\n",
    "import re\n",
    "from nltk.corpus import stopwords\n",
    "stop = stopwords.words('english')\n",
    "\n",
    "# estimators\n",
    "from sklearn.naive_bayes import MultinomialNB, GaussianNB\n",
    "from sklearn.tree import DecisionTreeClassifier\n",
    "from sklearn.svm import LinearSVC\n",
    "from sklearn.ensemble import AdaBoostClassifier\n",
    "from sklearn.neural_network import MLPClassifier\n",
    "from sklearn.neighbors import KNeighborsClassifier\n",
    "from lightgbm import LGBMClassifier\n",
    "\n",
    "# data sampling\n",
    "from sklearn.model_selection import train_test_split, GridSearchCV\n",
    "\n",
    "# metrics\n",
    "from sklearn.metrics import confusion_matrix\n",
    "from sklearn.metrics import plot_confusion_matrix"
   ]
  },
  {
   "cell_type": "markdown",
   "metadata": {},
   "source": [
    "### Load the dataset"
   ]
  },
  {
   "cell_type": "code",
   "execution_count": 472,
   "metadata": {},
   "outputs": [
    {
     "data": {
      "text/html": [
       "<div>\n",
       "<style scoped>\n",
       "    .dataframe tbody tr th:only-of-type {\n",
       "        vertical-align: middle;\n",
       "    }\n",
       "\n",
       "    .dataframe tbody tr th {\n",
       "        vertical-align: top;\n",
       "    }\n",
       "\n",
       "    .dataframe thead th {\n",
       "        text-align: right;\n",
       "    }\n",
       "</style>\n",
       "<table border=\"1\" class=\"dataframe\">\n",
       "  <thead>\n",
       "    <tr style=\"text-align: right;\">\n",
       "      <th></th>\n",
       "      <th>Target</th>\n",
       "      <th>Message</th>\n",
       "    </tr>\n",
       "  </thead>\n",
       "  <tbody>\n",
       "    <tr>\n",
       "      <th>0</th>\n",
       "      <td>internal company policy</td>\n",
       "      <td>Message-ID: &lt;32715630.1075840547840.JavaMail.e...</td>\n",
       "    </tr>\n",
       "    <tr>\n",
       "      <th>1</th>\n",
       "      <td>alliances / partnerships</td>\n",
       "      <td>Message-ID: &lt;8721012.1075863428380.JavaMail.ev...</td>\n",
       "    </tr>\n",
       "    <tr>\n",
       "      <th>2</th>\n",
       "      <td>internal company operations</td>\n",
       "      <td>Message-ID: &lt;8687721.1075852656109.JavaMail.ev...</td>\n",
       "    </tr>\n",
       "    <tr>\n",
       "      <th>3</th>\n",
       "      <td>internal company operations</td>\n",
       "      <td>Message-ID: &lt;16562450.1075846168630.JavaMail.e...</td>\n",
       "    </tr>\n",
       "    <tr>\n",
       "      <th>4</th>\n",
       "      <td>internal projects -- progress and strategy</td>\n",
       "      <td>Message-ID: &lt;955111.1075858690252.JavaMail.eva...</td>\n",
       "    </tr>\n",
       "  </tbody>\n",
       "</table>\n",
       "</div>"
      ],
      "text/plain": [
       "                                       Target  \\\n",
       "0                     internal company policy   \n",
       "1                    alliances / partnerships   \n",
       "2                 internal company operations   \n",
       "3                 internal company operations   \n",
       "4  internal projects -- progress and strategy   \n",
       "\n",
       "                                             Message  \n",
       "0  Message-ID: <32715630.1075840547840.JavaMail.e...  \n",
       "1  Message-ID: <8721012.1075863428380.JavaMail.ev...  \n",
       "2  Message-ID: <8687721.1075852656109.JavaMail.ev...  \n",
       "3  Message-ID: <16562450.1075846168630.JavaMail.e...  \n",
       "4  Message-ID: <955111.1075858690252.JavaMail.eva...  "
      ]
     },
     "execution_count": 472,
     "metadata": {},
     "output_type": "execute_result"
    }
   ],
   "source": [
    "df = pd.read_csv('giskard_dataset.csv', sep=';', index_col=[0]) # extract dataset\n",
    "df = df.reset_index().drop(axis=1, columns = 'index') # this avoid index corruption after removing\n",
    "\n",
    "df.head()"
   ]
  },
  {
   "cell_type": "code",
   "execution_count": 473,
   "metadata": {},
   "outputs": [
    {
     "name": "stdout",
     "output_type": "stream",
     "text": [
      "<class 'pandas.core.frame.DataFrame'>\n",
      "RangeIndex: 879 entries, 0 to 878\n",
      "Data columns (total 2 columns):\n",
      " #   Column   Non-Null Count  Dtype \n",
      "---  ------   --------------  ----- \n",
      " 0   Target   879 non-null    object\n",
      " 1   Message  879 non-null    object\n",
      "dtypes: object(2)\n",
      "memory usage: 13.9+ KB\n"
     ]
    }
   ],
   "source": [
    "df.info()"
   ]
  },
  {
   "cell_type": "markdown",
   "metadata": {},
   "source": [
    "<a id=\"2\"> </a>\n",
    "# II. Exploratory Data Analysis\n",
    "\n",
    "Exploratory Data Analysis (EDA) is an analysis approach that identifies general patterns in the data. "
   ]
  },
  {
   "cell_type": "code",
   "execution_count": 474,
   "metadata": {},
   "outputs": [
    {
     "name": "stdout",
     "output_type": "stream",
     "text": [
      "<class 'pandas.core.frame.DataFrame'>\n",
      "RangeIndex: 879 entries, 0 to 878\n",
      "Data columns (total 2 columns):\n",
      " #   Column   Non-Null Count  Dtype \n",
      "---  ------   --------------  ----- \n",
      " 0   Target   879 non-null    object\n",
      " 1   Message  879 non-null    object\n",
      "dtypes: object(2)\n",
      "memory usage: 13.9+ KB\n"
     ]
    }
   ],
   "source": [
    "df.info()"
   ]
  },
  {
   "cell_type": "markdown",
   "metadata": {},
   "source": [
    "Here, the data is mainly string values, meaning no numeric patterns, however we still can still look at the ratio of each target class. "
   ]
  },
  {
   "cell_type": "code",
   "execution_count": 475,
   "metadata": {},
   "outputs": [
    {
     "data": {
      "text/plain": [
       "regulations and regulators (includes price caps)    184\n",
       "california energy crisis / california politics      149\n",
       "internal projects -- progress and strategy          109\n",
       "internal company operations                          78\n",
       "political influence / contributions / contacts       76\n",
       "internal company policy                              67\n",
       " company image -- current                            59\n",
       "legal advice                                         47\n",
       "alliances / partnerships                             43\n",
       "company image -- changing / influencing              37\n",
       "talking points                                       13\n",
       "meeting minutes                                      13\n",
       "trip reports                                          4\n",
       "Name: Target, dtype: int64"
      ]
     },
     "execution_count": 475,
     "metadata": {},
     "output_type": "execute_result"
    }
   ],
   "source": [
    "df['Target'].value_counts()"
   ]
  },
  {
   "cell_type": "code",
   "execution_count": 476,
   "metadata": {},
   "outputs": [
    {
     "data": {
      "text/plain": [
       "Text(0.5, 1.0, 'Target composition')"
      ]
     },
     "execution_count": 476,
     "metadata": {},
     "output_type": "execute_result"
    },
    {
     "data": {
      "image/png": "[encoded data removed]",
      "text/plain": [
       "<Figure size 432x288 with 1 Axes>"
      ]
     },
     "metadata": {},
     "output_type": "display_data"
    }
   ],
   "source": [
    "# composition of the target\n",
    "df['Target'].value_counts().plot.pie(autopct='%1.1f%%')\n",
    "plt.title('Target composition')"
   ]
  },
  {
   "cell_type": "markdown",
   "metadata": {},
   "source": [
    "We can see that half of the messages are related to : \n",
    "- regulations and regulators (20.9%)\n",
    "- california energy crisis / california politics (17%)\n",
    "- internal projects -- progress and strategy (12.4%)"
   ]
  },
  {
   "cell_type": "markdown",
   "metadata": {},
   "source": [
    "<a id=\"3\"> </a>\n",
    "# III. Pre-processing"
   ]
  },
  {
   "cell_type": "markdown",
   "metadata": {},
   "source": [
    "### Cleaning check"
   ]
  },
  {
   "cell_type": "code",
   "execution_count": 477,
   "metadata": {},
   "outputs": [
    {
     "data": {
      "text/plain": [
       "False    879\n",
       "dtype: int64"
      ]
     },
     "execution_count": 477,
     "metadata": {},
     "output_type": "execute_result"
    }
   ],
   "source": [
    "# check duplicates to clean\n",
    "df.duplicated().value_counts()"
   ]
  },
  {
   "cell_type": "markdown",
   "metadata": {},
   "source": [
    "The dataset has no duplicates"
   ]
  },
  {
   "cell_type": "code",
   "execution_count": 478,
   "metadata": {},
   "outputs": [
    {
     "data": {
      "image/png": "[encoded data removed]",
      "text/plain": [
       "<Figure size 432x288 with 1 Axes>"
      ]
     },
     "metadata": {
      "needs_background": "light"
     },
     "output_type": "display_data"
    }
   ],
   "source": [
    "# calculation of the filling ratio per column\n",
    "ratio = pd.DataFrame(\n",
    "    data=(100 - 100*(df.isnull().sum() / df.isnull().count()).sort_values(ascending=False)),\n",
    "    columns=['values']).reset_index()\n",
    "\n",
    "# color criteria (red = not full / green = full)\n",
    "colors = ['red' if y<100 else 'green' for y in ratio['values']]\n",
    "\n",
    "# chart\n",
    "sns.barplot(x='index', y='values', data=ratio, palette=colors)\n",
    "\n",
    "plt.title('Filling ratio (%)')\n",
    "plt.tick_params(axis='x', rotation=45)"
   ]
  },
  {
   "cell_type": "markdown",
   "metadata": {},
   "source": [
    "The dataset has no missing values"
   ]
  },
  {
   "cell_type": "markdown",
   "metadata": {},
   "source": [
    "### Feature Engineering"
   ]
  },
  {
   "cell_type": "code",
   "execution_count": 479,
   "metadata": {},
   "outputs": [
    {
     "name": "stdout",
     "output_type": "stream",
     "text": [
      "Message-ID: <1637509.1075843546651.JavaMail.evans@thyme>\n",
      "Date: Thu, 31 May 2001 04:19:00 -0700 (PDT)\n",
      "From: susan.mara@enron.com\n",
      "To: arem@electric.com, tracy.fairchild@edelman.com, erica.manuel@edelman.com,\n",
      "\tnplotkin@tfglobby.com\n",
      "Subject: Ackerman to talk to Wolak\n",
      "Mime-Version: 1.0\n",
      "Content-Type: text/plain; charset=us-ascii\n",
      "Content-Transfer-Encoding: 7bit\n",
      "X-From: Susan J Mara\n",
      "X-To: arem@electric.com, tracy.fairchild@edelman.com, erica.manuel@edelman.com, nplotkin@tfglobby.com\n",
      "X-cc: \n",
      "X-bcc: \n",
      "X-Folder: \\Jeff_Dasovich_June2001\\Notes Folders\\All documents\n",
      "X-Origin: DASOVICH-J\n",
      "X-FileName: jdasovic.nsf\n",
      "\n",
      "Gary has been seeing Frank Wolak all over the place on the media scene.  I \n",
      "asked him to ask Frank to do something POSITIVE and under the state's own \n",
      "control and push DA.  Gary is also speaking to a bunch of CEOs (with Anjali \n",
      "of the ISO and Carl Wood) and he said he would carry our message to them as \n",
      "well.\n",
      "\n",
      "Sue Mara\n",
      "Enron Corp.\n",
      "Tel: (415) 782-7802\n",
      "Fax:(415) 782-7854\n"
     ]
    }
   ],
   "source": [
    "# check the content of a Message\n",
    "print(df.loc[9]['Message'])"
   ]
  },
  {
   "cell_type": "markdown",
   "metadata": {},
   "source": [
    "We can see that the above message respects MIME 1 format. Headers such as `Date`, and `Subject`, the body content of the email and `From` can be used as the features. \n",
    "\n",
    "Fortunately, python has a package named `email` which can manage MIME format, therefore we can use it for our dataset ! "
   ]
  },
  {
   "cell_type": "code",
   "execution_count": 480,
   "metadata": {},
   "outputs": [],
   "source": [
    "import email\n",
    "\n",
    "# Nested function in 'get_features' used for preparing features contents \n",
    "def insert_value(dictionary, key, value):\n",
    "    if key in dictionary:\n",
    "        values = dictionary.get(key)\n",
    "        values.append(value)\n",
    "        dictionary[key] = values\n",
    "    else:\n",
    "        dictionary[key] = [value]\n",
    "    return dictionary\n",
    "\n",
    "\n",
    "# Function used for extracting features into our dataframe \n",
    "def get_headers(df, header_names):\n",
    "    headers = {}\n",
    "    messages = df['Message']\n",
    "    for message in messages:\n",
    "        e = email.message_from_string(message)\n",
    "        for item in header_names:\n",
    "            header = e.get(item)\n",
    "            insert_value(dictionary = headers, key = item, value = header) \n",
    "    return headers\n",
    "header_names = ['date', 'subject', 'from']    \n",
    "headers = get_headers(df, header_names)"
   ]
  },
  {
   "cell_type": "code",
   "execution_count": 481,
   "metadata": {},
   "outputs": [
    {
     "data": {
      "text/html": [
       "<div>\n",
       "<style scoped>\n",
       "    .dataframe tbody tr th:only-of-type {\n",
       "        vertical-align: middle;\n",
       "    }\n",
       "\n",
       "    .dataframe tbody tr th {\n",
       "        vertical-align: top;\n",
       "    }\n",
       "\n",
       "    .dataframe thead th {\n",
       "        text-align: right;\n",
       "    }\n",
       "</style>\n",
       "<table border=\"1\" class=\"dataframe\">\n",
       "  <thead>\n",
       "    <tr style=\"text-align: right;\">\n",
       "      <th></th>\n",
       "      <th>Target</th>\n",
       "      <th>Message</th>\n",
       "      <th>body</th>\n",
       "    </tr>\n",
       "  </thead>\n",
       "  <tbody>\n",
       "    <tr>\n",
       "      <th>0</th>\n",
       "      <td>internal company policy</td>\n",
       "      <td>Message-ID: &lt;32715630.1075840547840.JavaMail.e...</td>\n",
       "      <td>To:GILBERT-SMITH, DOUGLAS\\nEmail:doug.gilbert-...</td>\n",
       "    </tr>\n",
       "    <tr>\n",
       "      <th>1</th>\n",
       "      <td>alliances / partnerships</td>\n",
       "      <td>Message-ID: &lt;8721012.1075863428380.JavaMail.ev...</td>\n",
       "      <td>\\n\\n -----Original Message-----\\nFrom: \\tKoepk...</td>\n",
       "    </tr>\n",
       "    <tr>\n",
       "      <th>2</th>\n",
       "      <td>internal company operations</td>\n",
       "      <td>Message-ID: &lt;8687721.1075852656109.JavaMail.ev...</td>\n",
       "      <td>John Brindle, David Cromley and others in the ...</td>\n",
       "    </tr>\n",
       "    <tr>\n",
       "      <th>3</th>\n",
       "      <td>internal company operations</td>\n",
       "      <td>Message-ID: &lt;16562450.1075846168630.JavaMail.e...</td>\n",
       "      <td>Yes.  Contact either Gia or John and get the b...</td>\n",
       "    </tr>\n",
       "    <tr>\n",
       "      <th>4</th>\n",
       "      <td>internal projects -- progress and strategy</td>\n",
       "      <td>Message-ID: &lt;955111.1075858690252.JavaMail.eva...</td>\n",
       "      <td>\\nThis is something interesting to put in your...</td>\n",
       "    </tr>\n",
       "  </tbody>\n",
       "</table>\n",
       "</div>"
      ],
      "text/plain": [
       "                                       Target  \\\n",
       "0                     internal company policy   \n",
       "1                    alliances / partnerships   \n",
       "2                 internal company operations   \n",
       "3                 internal company operations   \n",
       "4  internal projects -- progress and strategy   \n",
       "\n",
       "                                             Message  \\\n",
       "0  Message-ID: <32715630.1075840547840.JavaMail.e...   \n",
       "1  Message-ID: <8721012.1075863428380.JavaMail.ev...   \n",
       "2  Message-ID: <8687721.1075852656109.JavaMail.ev...   \n",
       "3  Message-ID: <16562450.1075846168630.JavaMail.e...   \n",
       "4  Message-ID: <955111.1075858690252.JavaMail.eva...   \n",
       "\n",
       "                                                body  \n",
       "0  To:GILBERT-SMITH, DOUGLAS\\nEmail:doug.gilbert-...  \n",
       "1  \\n\\n -----Original Message-----\\nFrom: \\tKoepk...  \n",
       "2  John Brindle, David Cromley and others in the ...  \n",
       "3  Yes.  Contact either Gia or John and get the b...  \n",
       "4  \\nThis is something interesting to put in your...  "
      ]
     },
     "execution_count": 481,
     "metadata": {},
     "output_type": "execute_result"
    }
   ],
   "source": [
    "# Function used for extracting body text from emails\n",
    "def get_messages(df):\n",
    "    messages = []\n",
    "    for item in df['Message']:\n",
    "        # Return a message object structure from a string\n",
    "        e = email.message_from_string(item)    \n",
    "        # get message body  \n",
    "        message_body = e.get_payload()\n",
    "        messages.append(message_body)\n",
    "    return messages\n",
    "msg_body = get_messages(df)\n",
    "df['body'] = msg_body\n",
    "\n",
    "df.head()"
   ]
  },
  {
   "cell_type": "code",
   "execution_count": 482,
   "metadata": {},
   "outputs": [
    {
     "data": {
      "text/html": [
       "<div>\n",
       "<style scoped>\n",
       "    .dataframe tbody tr th:only-of-type {\n",
       "        vertical-align: middle;\n",
       "    }\n",
       "\n",
       "    .dataframe tbody tr th {\n",
       "        vertical-align: top;\n",
       "    }\n",
       "\n",
       "    .dataframe thead th {\n",
       "        text-align: right;\n",
       "    }\n",
       "</style>\n",
       "<table border=\"1\" class=\"dataframe\">\n",
       "  <thead>\n",
       "    <tr style=\"text-align: right;\">\n",
       "      <th></th>\n",
       "      <th>Target</th>\n",
       "      <th>Message</th>\n",
       "      <th>body</th>\n",
       "      <th>date</th>\n",
       "      <th>subject</th>\n",
       "      <th>from</th>\n",
       "    </tr>\n",
       "  </thead>\n",
       "  <tbody>\n",
       "    <tr>\n",
       "      <th>0</th>\n",
       "      <td>internal company policy</td>\n",
       "      <td>Message-ID: &lt;32715630.1075840547840.JavaMail.e...</td>\n",
       "      <td>To:GILBERT-SMITH, DOUGLAS\\nEmail:doug.gilbert-...</td>\n",
       "      <td>Wed, 11 Jul 2001 08:29:27 -0700 (PDT)</td>\n",
       "      <td>Confidential Information and Securities Trading</td>\n",
       "      <td>legalonline-compliance@enron.com</td>\n",
       "    </tr>\n",
       "    <tr>\n",
       "      <th>1</th>\n",
       "      <td>alliances / partnerships</td>\n",
       "      <td>Message-ID: &lt;8721012.1075863428380.JavaMail.ev...</td>\n",
       "      <td>\\n\\n -----Original Message-----\\nFrom: \\tKoepk...</td>\n",
       "      <td>Tue, 26 Jun 2001 09:40:17 -0700 (PDT)</td>\n",
       "      <td>FW: Venezuela FX and inflation forecasts, June...</td>\n",
       "      <td>j.kaminski@enron.com</td>\n",
       "    </tr>\n",
       "    <tr>\n",
       "      <th>2</th>\n",
       "      <td>internal company operations</td>\n",
       "      <td>Message-ID: &lt;8687721.1075852656109.JavaMail.ev...</td>\n",
       "      <td>John Brindle, David Cromley and others in the ...</td>\n",
       "      <td>Wed, 13 Jun 2001 06:05:07 -0700 (PDT)</td>\n",
       "      <td>Enron Expatriates in India</td>\n",
       "      <td>steven.kean@enron.com</td>\n",
       "    </tr>\n",
       "    <tr>\n",
       "      <th>3</th>\n",
       "      <td>internal company operations</td>\n",
       "      <td>Message-ID: &lt;16562450.1075846168630.JavaMail.e...</td>\n",
       "      <td>Yes.  Contact either Gia or John and get the b...</td>\n",
       "      <td>Mon, 21 Aug 2000 00:30:00 -0700 (PDT)</td>\n",
       "      <td>Re: PLEASE READ &amp; RESPOND</td>\n",
       "      <td>steven.kean@enron.com</td>\n",
       "    </tr>\n",
       "    <tr>\n",
       "      <th>4</th>\n",
       "      <td>internal projects -- progress and strategy</td>\n",
       "      <td>Message-ID: &lt;955111.1075858690252.JavaMail.eva...</td>\n",
       "      <td>\\nThis is something interesting to put in your...</td>\n",
       "      <td>Sat, 16 Jun 2001 17:36:06 -0700 (PDT)</td>\n",
       "      <td>FW: ISO's Response to BPA Rebuttal of Sheffrin...</td>\n",
       "      <td>b..sanders@enron.com</td>\n",
       "    </tr>\n",
       "  </tbody>\n",
       "</table>\n",
       "</div>"
      ],
      "text/plain": [
       "                                       Target  \\\n",
       "0                     internal company policy   \n",
       "1                    alliances / partnerships   \n",
       "2                 internal company operations   \n",
       "3                 internal company operations   \n",
       "4  internal projects -- progress and strategy   \n",
       "\n",
       "                                             Message  \\\n",
       "0  Message-ID: <32715630.1075840547840.JavaMail.e...   \n",
       "1  Message-ID: <8721012.1075863428380.JavaMail.ev...   \n",
       "2  Message-ID: <8687721.1075852656109.JavaMail.ev...   \n",
       "3  Message-ID: <16562450.1075846168630.JavaMail.e...   \n",
       "4  Message-ID: <955111.1075858690252.JavaMail.eva...   \n",
       "\n",
       "                                                body  \\\n",
       "0  To:GILBERT-SMITH, DOUGLAS\\nEmail:doug.gilbert-...   \n",
       "1  \\n\\n -----Original Message-----\\nFrom: \\tKoepk...   \n",
       "2  John Brindle, David Cromley and others in the ...   \n",
       "3  Yes.  Contact either Gia or John and get the b...   \n",
       "4  \\nThis is something interesting to put in your...   \n",
       "\n",
       "                                    date  \\\n",
       "0  Wed, 11 Jul 2001 08:29:27 -0700 (PDT)   \n",
       "1  Tue, 26 Jun 2001 09:40:17 -0700 (PDT)   \n",
       "2  Wed, 13 Jun 2001 06:05:07 -0700 (PDT)   \n",
       "3  Mon, 21 Aug 2000 00:30:00 -0700 (PDT)   \n",
       "4  Sat, 16 Jun 2001 17:36:06 -0700 (PDT)   \n",
       "\n",
       "                                             subject  \\\n",
       "0    Confidential Information and Securities Trading   \n",
       "1  FW: Venezuela FX and inflation forecasts, June...   \n",
       "2                         Enron Expatriates in India   \n",
       "3                          Re: PLEASE READ & RESPOND   \n",
       "4  FW: ISO's Response to BPA Rebuttal of Sheffrin...   \n",
       "\n",
       "                               from  \n",
       "0  legalonline-compliance@enron.com  \n",
       "1              j.kaminski@enron.com  \n",
       "2             steven.kean@enron.com  \n",
       "3             steven.kean@enron.com  \n",
       "4              b..sanders@enron.com  "
      ]
     },
     "execution_count": 482,
     "metadata": {},
     "output_type": "execute_result"
    }
   ],
   "source": [
    "# Function to add headers and values to the main dataframe\n",
    "def add_headers(df, header_list):\n",
    "    for label in header_list:\n",
    "        df_new = pd.DataFrame(headers[label], columns = [label]) # make dataframe based on header_list\n",
    "        if label not in df.columns: # avoid duplicates\n",
    "            df = pd.concat([df, df_new], axis = 1)\n",
    "    return df\n",
    "\n",
    "header_list = ['date', 'subject', 'from']\n",
    "df = add_headers(df, header_list)\n",
    "\n",
    "\n",
    "df.head()"
   ]
  },
  {
   "cell_type": "markdown",
   "metadata": {},
   "source": [
    "Now we want to manipulate the date column. To do this, we convert it to datetime format, then we would like to keep only the months (alphabetical) and years (numerical)"
   ]
  },
  {
   "cell_type": "code",
   "execution_count": 483,
   "metadata": {},
   "outputs": [
    {
     "data": {
      "text/html": [
       "<div>\n",
       "<style scoped>\n",
       "    .dataframe tbody tr th:only-of-type {\n",
       "        vertical-align: middle;\n",
       "    }\n",
       "\n",
       "    .dataframe tbody tr th {\n",
       "        vertical-align: top;\n",
       "    }\n",
       "\n",
       "    .dataframe thead th {\n",
       "        text-align: right;\n",
       "    }\n",
       "</style>\n",
       "<table border=\"1\" class=\"dataframe\">\n",
       "  <thead>\n",
       "    <tr style=\"text-align: right;\">\n",
       "      <th></th>\n",
       "      <th>Target</th>\n",
       "      <th>Message</th>\n",
       "      <th>body</th>\n",
       "      <th>date</th>\n",
       "      <th>subject</th>\n",
       "      <th>from</th>\n",
       "      <th>year</th>\n",
       "      <th>month</th>\n",
       "    </tr>\n",
       "  </thead>\n",
       "  <tbody>\n",
       "    <tr>\n",
       "      <th>0</th>\n",
       "      <td>internal company policy</td>\n",
       "      <td>Message-ID: &lt;32715630.1075840547840.JavaMail.e...</td>\n",
       "      <td>To:GILBERT-SMITH, DOUGLAS\\nEmail:doug.gilbert-...</td>\n",
       "      <td>2001-07-11 15:29:27+00:00</td>\n",
       "      <td>Confidential Information and Securities Trading</td>\n",
       "      <td>legalonline-compliance@enron.com</td>\n",
       "      <td>2001</td>\n",
       "      <td>July</td>\n",
       "    </tr>\n",
       "    <tr>\n",
       "      <th>1</th>\n",
       "      <td>alliances / partnerships</td>\n",
       "      <td>Message-ID: &lt;8721012.1075863428380.JavaMail.ev...</td>\n",
       "      <td>\\n\\n -----Original Message-----\\nFrom: \\tKoepk...</td>\n",
       "      <td>2001-06-26 16:40:17+00:00</td>\n",
       "      <td>FW: Venezuela FX and inflation forecasts, June...</td>\n",
       "      <td>j.kaminski@enron.com</td>\n",
       "      <td>2001</td>\n",
       "      <td>June</td>\n",
       "    </tr>\n",
       "    <tr>\n",
       "      <th>2</th>\n",
       "      <td>internal company operations</td>\n",
       "      <td>Message-ID: &lt;8687721.1075852656109.JavaMail.ev...</td>\n",
       "      <td>John Brindle, David Cromley and others in the ...</td>\n",
       "      <td>2001-06-13 13:05:07+00:00</td>\n",
       "      <td>Enron Expatriates in India</td>\n",
       "      <td>steven.kean@enron.com</td>\n",
       "      <td>2001</td>\n",
       "      <td>June</td>\n",
       "    </tr>\n",
       "    <tr>\n",
       "      <th>3</th>\n",
       "      <td>internal company operations</td>\n",
       "      <td>Message-ID: &lt;16562450.1075846168630.JavaMail.e...</td>\n",
       "      <td>Yes.  Contact either Gia or John and get the b...</td>\n",
       "      <td>2000-08-21 07:30:00+00:00</td>\n",
       "      <td>Re: PLEASE READ &amp; RESPOND</td>\n",
       "      <td>steven.kean@enron.com</td>\n",
       "      <td>2000</td>\n",
       "      <td>August</td>\n",
       "    </tr>\n",
       "    <tr>\n",
       "      <th>4</th>\n",
       "      <td>internal projects -- progress and strategy</td>\n",
       "      <td>Message-ID: &lt;955111.1075858690252.JavaMail.eva...</td>\n",
       "      <td>\\nThis is something interesting to put in your...</td>\n",
       "      <td>2001-06-17 00:36:06+00:00</td>\n",
       "      <td>FW: ISO's Response to BPA Rebuttal of Sheffrin...</td>\n",
       "      <td>b..sanders@enron.com</td>\n",
       "      <td>2001</td>\n",
       "      <td>June</td>\n",
       "    </tr>\n",
       "  </tbody>\n",
       "</table>\n",
       "</div>"
      ],
      "text/plain": [
       "                                       Target  \\\n",
       "0                     internal company policy   \n",
       "1                    alliances / partnerships   \n",
       "2                 internal company operations   \n",
       "3                 internal company operations   \n",
       "4  internal projects -- progress and strategy   \n",
       "\n",
       "                                             Message  \\\n",
       "0  Message-ID: <32715630.1075840547840.JavaMail.e...   \n",
       "1  Message-ID: <8721012.1075863428380.JavaMail.ev...   \n",
       "2  Message-ID: <8687721.1075852656109.JavaMail.ev...   \n",
       "3  Message-ID: <16562450.1075846168630.JavaMail.e...   \n",
       "4  Message-ID: <955111.1075858690252.JavaMail.eva...   \n",
       "\n",
       "                                                body  \\\n",
       "0  To:GILBERT-SMITH, DOUGLAS\\nEmail:doug.gilbert-...   \n",
       "1  \\n\\n -----Original Message-----\\nFrom: \\tKoepk...   \n",
       "2  John Brindle, David Cromley and others in the ...   \n",
       "3  Yes.  Contact either Gia or John and get the b...   \n",
       "4  \\nThis is something interesting to put in your...   \n",
       "\n",
       "                       date  \\\n",
       "0 2001-07-11 15:29:27+00:00   \n",
       "1 2001-06-26 16:40:17+00:00   \n",
       "2 2001-06-13 13:05:07+00:00   \n",
       "3 2000-08-21 07:30:00+00:00   \n",
       "4 2001-06-17 00:36:06+00:00   \n",
       "\n",
       "                                             subject  \\\n",
       "0    Confidential Information and Securities Trading   \n",
       "1  FW: Venezuela FX and inflation forecasts, June...   \n",
       "2                         Enron Expatriates in India   \n",
       "3                          Re: PLEASE READ & RESPOND   \n",
       "4  FW: ISO's Response to BPA Rebuttal of Sheffrin...   \n",
       "\n",
       "                               from  year   month  \n",
       "0  legalonline-compliance@enron.com  2001    July  \n",
       "1              j.kaminski@enron.com  2001    June  \n",
       "2             steven.kean@enron.com  2001    June  \n",
       "3             steven.kean@enron.com  2000  August  \n",
       "4              b..sanders@enron.com  2001    June  "
      ]
     },
     "execution_count": 483,
     "metadata": {},
     "output_type": "execute_result"
    }
   ],
   "source": [
    "df['date'] = pd.to_datetime(df['date'], utc=True) # utc conversion argument needed otherwise reading error is raised\n",
    "\n",
    "# Splitting of the Date column\n",
    "df['year'] = df['date'].dt.year\n",
    "df['month'] = pd.to_datetime(df['date'], format='%m').dt.month_name()\n",
    "\n",
    "df.head()"
   ]
  },
  {
   "cell_type": "code",
   "execution_count": 484,
   "metadata": {},
   "outputs": [
    {
     "data": {
      "text/html": [
       "<div>\n",
       "<style scoped>\n",
       "    .dataframe tbody tr th:only-of-type {\n",
       "        vertical-align: middle;\n",
       "    }\n",
       "\n",
       "    .dataframe tbody tr th {\n",
       "        vertical-align: top;\n",
       "    }\n",
       "\n",
       "    .dataframe thead th {\n",
       "        text-align: right;\n",
       "    }\n",
       "</style>\n",
       "<table border=\"1\" class=\"dataframe\">\n",
       "  <thead>\n",
       "    <tr style=\"text-align: right;\">\n",
       "      <th></th>\n",
       "      <th>Target</th>\n",
       "      <th>from</th>\n",
       "      <th>text</th>\n",
       "    </tr>\n",
       "  </thead>\n",
       "  <tbody>\n",
       "    <tr>\n",
       "      <th>0</th>\n",
       "      <td>internal company policy</td>\n",
       "      <td>legalonline-compliance@enron.com</td>\n",
       "      <td>July 2001 Confidential Information and Securit...</td>\n",
       "    </tr>\n",
       "    <tr>\n",
       "      <th>1</th>\n",
       "      <td>alliances / partnerships</td>\n",
       "      <td>j.kaminski@enron.com</td>\n",
       "      <td>June 2001 FW: Venezuela FX and inflation forec...</td>\n",
       "    </tr>\n",
       "    <tr>\n",
       "      <th>2</th>\n",
       "      <td>internal company operations</td>\n",
       "      <td>steven.kean@enron.com</td>\n",
       "      <td>June 2001 Enron Expatriates in India John Brin...</td>\n",
       "    </tr>\n",
       "    <tr>\n",
       "      <th>3</th>\n",
       "      <td>internal company operations</td>\n",
       "      <td>steven.kean@enron.com</td>\n",
       "      <td>August 2000 Re: PLEASE READ &amp; RESPOND Yes.  Co...</td>\n",
       "    </tr>\n",
       "    <tr>\n",
       "      <th>4</th>\n",
       "      <td>internal projects -- progress and strategy</td>\n",
       "      <td>b..sanders@enron.com</td>\n",
       "      <td>June 2001 FW: ISO's Response to BPA Rebuttal o...</td>\n",
       "    </tr>\n",
       "  </tbody>\n",
       "</table>\n",
       "</div>"
      ],
      "text/plain": [
       "                                       Target  \\\n",
       "0                     internal company policy   \n",
       "1                    alliances / partnerships   \n",
       "2                 internal company operations   \n",
       "3                 internal company operations   \n",
       "4  internal projects -- progress and strategy   \n",
       "\n",
       "                               from  \\\n",
       "0  legalonline-compliance@enron.com   \n",
       "1              j.kaminski@enron.com   \n",
       "2             steven.kean@enron.com   \n",
       "3             steven.kean@enron.com   \n",
       "4              b..sanders@enron.com   \n",
       "\n",
       "                                                text  \n",
       "0  July 2001 Confidential Information and Securit...  \n",
       "1  June 2001 FW: Venezuela FX and inflation forec...  \n",
       "2  June 2001 Enron Expatriates in India John Brin...  \n",
       "3  August 2000 Re: PLEASE READ & RESPOND Yes.  Co...  \n",
       "4  June 2001 FW: ISO's Response to BPA Rebuttal o...  "
      ]
     },
     "execution_count": 484,
     "metadata": {},
     "output_type": "execute_result"
    }
   ],
   "source": [
    "# merge date, subject and body columns into a new text column\n",
    "df['text'] = df['month'] + ' ' + df['year'].astype('str') + ' ' + df['subject'] + ' ' + df['body']\n",
    "\n",
    "# drop the columns 'subject' and 'body'\n",
    "df.drop(['Message', 'date', 'month', 'year', 'subject', 'body'], axis=1, inplace=True)\n",
    "\n",
    "df.head()"
   ]
  },
  {
   "cell_type": "code",
   "execution_count": 485,
   "metadata": {},
   "outputs": [],
   "source": [
    "df['text'] = df['text'].replace({'FW: ': '', 'RE: ': '', 'Fw: ': '', 'Re: ': ''}, regex=True)"
   ]
  },
  {
   "cell_type": "code",
   "execution_count": 486,
   "metadata": {},
   "outputs": [
    {
     "data": {
      "text/html": [
       "<div>\n",
       "<style scoped>\n",
       "    .dataframe tbody tr th:only-of-type {\n",
       "        vertical-align: middle;\n",
       "    }\n",
       "\n",
       "    .dataframe tbody tr th {\n",
       "        vertical-align: top;\n",
       "    }\n",
       "\n",
       "    .dataframe thead th {\n",
       "        text-align: right;\n",
       "    }\n",
       "</style>\n",
       "<table border=\"1\" class=\"dataframe\">\n",
       "  <thead>\n",
       "    <tr style=\"text-align: right;\">\n",
       "      <th></th>\n",
       "      <th>Target</th>\n",
       "      <th>from</th>\n",
       "      <th>text</th>\n",
       "    </tr>\n",
       "  </thead>\n",
       "  <tbody>\n",
       "    <tr>\n",
       "      <th>0</th>\n",
       "      <td>internal company policy</td>\n",
       "      <td>legalonline-compliance@enron.com</td>\n",
       "      <td>July 2001 Confidential Information and Securit...</td>\n",
       "    </tr>\n",
       "    <tr>\n",
       "      <th>1</th>\n",
       "      <td>alliances / partnerships</td>\n",
       "      <td>j.kaminski@enron.com</td>\n",
       "      <td>June 2001 Venezuela FX and inflation forecasts...</td>\n",
       "    </tr>\n",
       "    <tr>\n",
       "      <th>2</th>\n",
       "      <td>internal company operations</td>\n",
       "      <td>steven.kean@enron.com</td>\n",
       "      <td>June 2001 Enron Expatriates in India John Brin...</td>\n",
       "    </tr>\n",
       "    <tr>\n",
       "      <th>3</th>\n",
       "      <td>internal company operations</td>\n",
       "      <td>steven.kean@enron.com</td>\n",
       "      <td>August 2000 PLEASE READ &amp; RESPOND Yes.  Contac...</td>\n",
       "    </tr>\n",
       "    <tr>\n",
       "      <th>4</th>\n",
       "      <td>internal projects -- progress and strategy</td>\n",
       "      <td>b..sanders@enron.com</td>\n",
       "      <td>June 2001 ISO's Response to BPA Rebuttal of Sh...</td>\n",
       "    </tr>\n",
       "  </tbody>\n",
       "</table>\n",
       "</div>"
      ],
      "text/plain": [
       "                                       Target  \\\n",
       "0                     internal company policy   \n",
       "1                    alliances / partnerships   \n",
       "2                 internal company operations   \n",
       "3                 internal company operations   \n",
       "4  internal projects -- progress and strategy   \n",
       "\n",
       "                               from  \\\n",
       "0  legalonline-compliance@enron.com   \n",
       "1              j.kaminski@enron.com   \n",
       "2             steven.kean@enron.com   \n",
       "3             steven.kean@enron.com   \n",
       "4              b..sanders@enron.com   \n",
       "\n",
       "                                                text  \n",
       "0  July 2001 Confidential Information and Securit...  \n",
       "1  June 2001 Venezuela FX and inflation forecasts...  \n",
       "2  June 2001 Enron Expatriates in India John Brin...  \n",
       "3  August 2000 PLEASE READ & RESPOND Yes.  Contac...  \n",
       "4  June 2001 ISO's Response to BPA Rebuttal of Sh...  "
      ]
     },
     "execution_count": 486,
     "metadata": {},
     "output_type": "execute_result"
    }
   ],
   "source": [
    "df.head()"
   ]
  },
  {
   "cell_type": "markdown",
   "metadata": {},
   "source": [
    "Now, do the following to preprocess text:\n",
    "- lowercasing all words\n",
    "- Remove extra new lines\n",
    "- Remove extra tabs, punctuations, commas\n",
    "- Remove extra white spaces\n",
    "- Remove stopwords"
   ]
  },
  {
   "cell_type": "code",
   "execution_count": 487,
   "metadata": {},
   "outputs": [
    {
     "name": "stderr",
     "output_type": "stream",
     "text": [
      "[nltk_data] Downloading package omw-1.4 to /home/tv/nltk_data...\n",
      "[nltk_data]   Package omw-1.4 is already up-to-date!\n",
      "[nltk_data] Downloading package stopwords to /home/tv/nltk_data...\n",
      "[nltk_data]   Package stopwords is already up-to-date!\n",
      "[nltk_data] Downloading package wordnet to /home/tv/nltk_data...\n",
      "[nltk_data]   Package wordnet is already up-to-date!\n"
     ]
    }
   ],
   "source": [
    "# Libraries\n",
    "import nltk\n",
    "nltk.download('omw-1.4')\n",
    "nltk.download('stopwords')\n",
    "nltk.download('wordnet')\n",
    "\n",
    "\n",
    "\n",
    "nltk_ponct = nltk.RegexpTokenizer(r'\\w{2,}') # tokenize (split words):\n",
    "                                                        # {2,} : 2+ words\n",
    "        \n",
    "from nltk.corpus import stopwords # remove unuseful words (to, the, etc.)\n",
    "stopword = stopwords.words('english')\n",
    "\n",
    "from nltk.stem import WordNetLemmatizer # reduce words to singular nouns\n",
    "wordnet_lemmatizer = WordNetLemmatizer()\n",
    "\n",
    "from nltk.stem import SnowballStemmer # find the root of the word\n",
    "snowball_stemmer = SnowballStemmer('english')\n",
    "\n",
    "# Function\n",
    "def nlp(text):\n",
    "    '''Processes the text to extract the keywords needed for data analysis'''\n",
    "    # keep original messages only (truncate '-----Original Message-----')\n",
    "    keyword = '-----'\n",
    "    if keyword in text:\n",
    "        text=text[:text.index(keyword) + len(keyword)]    \n",
    "    # switch to lower case letters\n",
    "    text = text.lower()\n",
    "    # split words and removes bridging\n",
    "    text = nltk_ponct.tokenize(text)\n",
    "    # remove unnecessary words\n",
    "    text = [word for word in text if word not in stopword]\n",
    "    # reduce words to singular nouns\n",
    "    text = [wordnet_lemmatizer.lemmatize(word) for word in text]\n",
    "    # find the root of the word\n",
    "    text = [snowball_stemmer.stem(word) for word in text]\n",
    "\n",
    "    #return text : if we want the tokenized format (list)\n",
    "    return ' '.join(text) # to get the str format"
   ]
  },
  {
   "cell_type": "code",
   "execution_count": 488,
   "metadata": {},
   "outputs": [
    {
     "data": {
      "text/html": [
       "<div>\n",
       "<style scoped>\n",
       "    .dataframe tbody tr th:only-of-type {\n",
       "        vertical-align: middle;\n",
       "    }\n",
       "\n",
       "    .dataframe tbody tr th {\n",
       "        vertical-align: top;\n",
       "    }\n",
       "\n",
       "    .dataframe thead th {\n",
       "        text-align: right;\n",
       "    }\n",
       "</style>\n",
       "<table border=\"1\" class=\"dataframe\">\n",
       "  <thead>\n",
       "    <tr style=\"text-align: right;\">\n",
       "      <th></th>\n",
       "      <th>Target</th>\n",
       "      <th>from</th>\n",
       "      <th>text</th>\n",
       "      <th>clean_text</th>\n",
       "    </tr>\n",
       "  </thead>\n",
       "  <tbody>\n",
       "    <tr>\n",
       "      <th>0</th>\n",
       "      <td>internal company policy</td>\n",
       "      <td>legalonline-compliance@enron.com</td>\n",
       "      <td>July 2001 Confidential Information and Securit...</td>\n",
       "      <td>juli 2001 confidenti inform secur trade gilber...</td>\n",
       "    </tr>\n",
       "    <tr>\n",
       "      <th>1</th>\n",
       "      <td>alliances / partnerships</td>\n",
       "      <td>j.kaminski@enron.com</td>\n",
       "      <td>June 2001 Venezuela FX and inflation forecasts...</td>\n",
       "      <td>june 2001 venezuela fx inflat forecast june 2001</td>\n",
       "    </tr>\n",
       "    <tr>\n",
       "      <th>2</th>\n",
       "      <td>internal company operations</td>\n",
       "      <td>steven.kean@enron.com</td>\n",
       "      <td>June 2001 Enron Expatriates in India John Brin...</td>\n",
       "      <td>june 2001 enron expatri india john brindl davi...</td>\n",
       "    </tr>\n",
       "    <tr>\n",
       "      <th>3</th>\n",
       "      <td>internal company operations</td>\n",
       "      <td>steven.kean@enron.com</td>\n",
       "      <td>August 2000 PLEASE READ &amp; RESPOND Yes.  Contac...</td>\n",
       "      <td>august 2000 pleas read respond yes contact eit...</td>\n",
       "    </tr>\n",
       "    <tr>\n",
       "      <th>4</th>\n",
       "      <td>internal projects -- progress and strategy</td>\n",
       "      <td>b..sanders@enron.com</td>\n",
       "      <td>June 2001 ISO's Response to BPA Rebuttal of Sh...</td>\n",
       "      <td>june 2001 iso respons bpa rebutt sheffrin stud...</td>\n",
       "    </tr>\n",
       "  </tbody>\n",
       "</table>\n",
       "</div>"
      ],
      "text/plain": [
       "                                       Target  \\\n",
       "0                     internal company policy   \n",
       "1                    alliances / partnerships   \n",
       "2                 internal company operations   \n",
       "3                 internal company operations   \n",
       "4  internal projects -- progress and strategy   \n",
       "\n",
       "                               from  \\\n",
       "0  legalonline-compliance@enron.com   \n",
       "1              j.kaminski@enron.com   \n",
       "2             steven.kean@enron.com   \n",
       "3             steven.kean@enron.com   \n",
       "4              b..sanders@enron.com   \n",
       "\n",
       "                                                text  \\\n",
       "0  July 2001 Confidential Information and Securit...   \n",
       "1  June 2001 Venezuela FX and inflation forecasts...   \n",
       "2  June 2001 Enron Expatriates in India John Brin...   \n",
       "3  August 2000 PLEASE READ & RESPOND Yes.  Contac...   \n",
       "4  June 2001 ISO's Response to BPA Rebuttal of Sh...   \n",
       "\n",
       "                                          clean_text  \n",
       "0  juli 2001 confidenti inform secur trade gilber...  \n",
       "1   june 2001 venezuela fx inflat forecast june 2001  \n",
       "2  june 2001 enron expatri india john brindl davi...  \n",
       "3  august 2000 pleas read respond yes contact eit...  \n",
       "4  june 2001 iso respons bpa rebutt sheffrin stud...  "
      ]
     },
     "execution_count": 488,
     "metadata": {},
     "output_type": "execute_result"
    }
   ],
   "source": [
    "# apply the above cleaning function to our text column\n",
    "df['clean_text'] = df['text'].map(nlp)\n",
    "\n",
    "df.head()"
   ]
  },
  {
   "cell_type": "code",
   "execution_count": 489,
   "metadata": {},
   "outputs": [
    {
     "data": {
      "text/html": [
       "<div>\n",
       "<style scoped>\n",
       "    .dataframe tbody tr th:only-of-type {\n",
       "        vertical-align: middle;\n",
       "    }\n",
       "\n",
       "    .dataframe tbody tr th {\n",
       "        vertical-align: top;\n",
       "    }\n",
       "\n",
       "    .dataframe thead th {\n",
       "        text-align: right;\n",
       "    }\n",
       "</style>\n",
       "<table border=\"1\" class=\"dataframe\">\n",
       "  <thead>\n",
       "    <tr style=\"text-align: right;\">\n",
       "      <th></th>\n",
       "      <th>Target</th>\n",
       "      <th>features</th>\n",
       "    </tr>\n",
       "  </thead>\n",
       "  <tbody>\n",
       "    <tr>\n",
       "      <th>0</th>\n",
       "      <td>internal company policy</td>\n",
       "      <td>legalonline-compliance@enron.com juli 2001 con...</td>\n",
       "    </tr>\n",
       "    <tr>\n",
       "      <th>1</th>\n",
       "      <td>alliances / partnerships</td>\n",
       "      <td>j.kaminski@enron.com june 2001 venezuela fx in...</td>\n",
       "    </tr>\n",
       "    <tr>\n",
       "      <th>2</th>\n",
       "      <td>internal company operations</td>\n",
       "      <td>steven.kean@enron.com june 2001 enron expatri ...</td>\n",
       "    </tr>\n",
       "    <tr>\n",
       "      <th>3</th>\n",
       "      <td>internal company operations</td>\n",
       "      <td>steven.kean@enron.com august 2000 pleas read r...</td>\n",
       "    </tr>\n",
       "    <tr>\n",
       "      <th>4</th>\n",
       "      <td>internal projects -- progress and strategy</td>\n",
       "      <td>b..sanders@enron.com june 2001 iso respons bpa...</td>\n",
       "    </tr>\n",
       "  </tbody>\n",
       "</table>\n",
       "</div>"
      ],
      "text/plain": [
       "                                       Target  \\\n",
       "0                     internal company policy   \n",
       "1                    alliances / partnerships   \n",
       "2                 internal company operations   \n",
       "3                 internal company operations   \n",
       "4  internal projects -- progress and strategy   \n",
       "\n",
       "                                            features  \n",
       "0  legalonline-compliance@enron.com juli 2001 con...  \n",
       "1  j.kaminski@enron.com june 2001 venezuela fx in...  \n",
       "2  steven.kean@enron.com june 2001 enron expatri ...  \n",
       "3  steven.kean@enron.com august 2000 pleas read r...  \n",
       "4  b..sanders@enron.com june 2001 iso respons bpa...  "
      ]
     },
     "execution_count": 489,
     "metadata": {},
     "output_type": "execute_result"
    }
   ],
   "source": [
    "# merge from & clean_text columns and drop from & text columns\n",
    "df['features'] = df['from'] + ' ' + df['clean_text']\n",
    "\n",
    "# drop the columns 'subject' and 'body'\n",
    "df.drop(['from', 'text', 'clean_text'], axis=1, inplace=True)\n",
    "\n",
    "df.head()"
   ]
  },
  {
   "cell_type": "markdown",
   "metadata": {},
   "source": [
    "Finally, we want to encode the `Target` column containing the class labels"
   ]
  },
  {
   "cell_type": "code",
   "execution_count": 490,
   "metadata": {},
   "outputs": [],
   "source": [
    "def label_encoder(data):\n",
    "    class_le = LabelEncoder()\n",
    "    # apply label encoder on the 'Target' column\n",
    "    y = class_le.fit_transform(data['Target'])\n",
    "    return y"
   ]
  },
  {
   "cell_type": "code",
   "execution_count": 491,
   "metadata": {},
   "outputs": [],
   "source": [
    "y = label_encoder(df)"
   ]
  },
  {
   "cell_type": "markdown",
   "metadata": {},
   "source": [
    "<a id=\"4\"> </a>\n",
    "# IV. Modeling"
   ]
  },
  {
   "cell_type": "markdown",
   "metadata": {},
   "source": [
    "We want to compare several machine learning models in order to choose one, then tune its hyperparameters to optimize it. "
   ]
  },
  {
   "cell_type": "code",
   "execution_count": 492,
   "metadata": {},
   "outputs": [],
   "source": [
    "features = df['features']\n",
    "\n",
    "X = features\n",
    "y = y\n",
    "\n",
    "# split the data\n",
    "X_train, X_test, y_train, y_test = train_test_split(X, y, test_size=0.2)"
   ]
  },
  {
   "cell_type": "markdown",
   "metadata": {},
   "source": [
    "### Using Bag-of-Words"
   ]
  },
  {
   "cell_type": "code",
   "execution_count": 493,
   "metadata": {},
   "outputs": [
    {
     "name": "stdout",
     "output_type": "stream",
     "text": [
      "Execution time (sec):  0.10384917259216309\n"
     ]
    }
   ],
   "source": [
    "start = time.time()\n",
    "vectorizer = CountVectorizer(min_df=5, max_features=5000)\n",
    "X_train_bow = vectorizer.fit_transform(X_train)\n",
    "end = time.time()\n",
    "print(\"Execution time (sec): \",(end - start))"
   ]
  },
  {
   "cell_type": "code",
   "execution_count": 494,
   "metadata": {},
   "outputs": [
    {
     "name": "stdout",
     "output_type": "stream",
     "text": [
      "X_train_bow.shape:  (703, 2766)\n",
      "Execution time (sec):  0.0030410289764404297\n"
     ]
    }
   ],
   "source": [
    "start = time.time()\n",
    "X_train_bow = X_train_bow.toarray()\n",
    "print(\"X_train_bow.shape: \",X_train_bow.shape)\n",
    "end = time.time()\n",
    "print(\"Execution time (sec): \",(end - start))"
   ]
  },
  {
   "cell_type": "code",
   "execution_count": 495,
   "metadata": {},
   "outputs": [],
   "source": [
    "# create dataframe to store results\n",
    "f1_data = {\n",
    "    'Algorithm': ['Gaussian NB', 'Multinomial NB','Decision Tree','SVC','AdaBoost','ANN', 'KNN', 'LGB'],\n",
    "    'BoW': ''\n",
    "}\n",
    "f1_df = pd.DataFrame(f1_data)\n",
    "\n",
    "\n",
    "acc_data = {\n",
    "    'Algorithm': ['Gaussian NB', 'Multinomial NB','Decision Tree','SVC','AdaBoost','ANN', 'KNN', 'LGB'],\n",
    "    'BoW': ''\n",
    "}\n",
    "acc_df = pd.DataFrame(acc_data)"
   ]
  },
  {
   "cell_type": "code",
   "execution_count": 496,
   "metadata": {
    "scrolled": false
   },
   "outputs": [
    {
     "name": "stdout",
     "output_type": "stream",
     "text": [
      "Gaussian NB\n",
      "accuracy:  0.2360764587525151\n",
      "f1_score:  0.15972275222521132\n",
      "time (sec):  0.3027048110961914\n",
      "\n",
      "\n",
      "Multinomial NB\n",
      "accuracy:  0.32018108651911464\n",
      "f1_score:  0.22435927112882878\n",
      "time (sec):  0.39748072624206543\n",
      "\n",
      "\n",
      "Decision Tree\n",
      "accuracy:  0.3030784708249497\n",
      "f1_score:  0.23243612495731708\n",
      "time (sec):  0.5391268730163574\n",
      "\n",
      "\n",
      "SVM\n",
      "accuracy:  0.29591549295774644\n",
      "f1_score:  0.21425444544188324\n",
      "time (sec):  1.185464859008789\n",
      "\n",
      "\n",
      "AdaBoost\n",
      "accuracy:  0.3142857142857143\n",
      "f1_score:  0.21719641202709156\n",
      "time (sec):  1.8265445232391357\n",
      "\n",
      "\n",
      "ANN\n",
      "accuracy:  0.3556338028169014\n",
      "f1_score:  0.23481329185539238\n",
      "time (sec):  10.358669519424438\n",
      "\n",
      "\n",
      "KNN\n",
      "accuracy:  0.2560160965794769\n",
      "f1_score:  0.17119369767710232\n",
      "time (sec):  0.23739862442016602\n",
      "\n",
      "\n",
      "LGB\n",
      "accuracy:  0.3556338028169014\n",
      "f1_score:  0.25421241978555703\n",
      "time (sec):  4.796592473983765\n",
      "\n",
      "\n"
     ]
    },
    {
     "data": {
      "text/html": [
       "<div>\n",
       "<style scoped>\n",
       "    .dataframe tbody tr th:only-of-type {\n",
       "        vertical-align: middle;\n",
       "    }\n",
       "\n",
       "    .dataframe tbody tr th {\n",
       "        vertical-align: top;\n",
       "    }\n",
       "\n",
       "    .dataframe thead th {\n",
       "        text-align: right;\n",
       "    }\n",
       "</style>\n",
       "<table border=\"1\" class=\"dataframe\">\n",
       "  <thead>\n",
       "    <tr style=\"text-align: right;\">\n",
       "      <th></th>\n",
       "      <th>Algorithm</th>\n",
       "      <th>BoW</th>\n",
       "      <th>time</th>\n",
       "    </tr>\n",
       "  </thead>\n",
       "  <tbody>\n",
       "    <tr>\n",
       "      <th>0</th>\n",
       "      <td>Gaussian NB</td>\n",
       "      <td>0.236076</td>\n",
       "      <td>0.302705</td>\n",
       "    </tr>\n",
       "    <tr>\n",
       "      <th>1</th>\n",
       "      <td>Multinomial NB</td>\n",
       "      <td>0.320181</td>\n",
       "      <td>0.397481</td>\n",
       "    </tr>\n",
       "    <tr>\n",
       "      <th>2</th>\n",
       "      <td>Decision Tree</td>\n",
       "      <td>0.303078</td>\n",
       "      <td>0.539127</td>\n",
       "    </tr>\n",
       "    <tr>\n",
       "      <th>3</th>\n",
       "      <td>SVM</td>\n",
       "      <td>0.295915</td>\n",
       "      <td>1.185465</td>\n",
       "    </tr>\n",
       "    <tr>\n",
       "      <th>4</th>\n",
       "      <td>AdaBoost</td>\n",
       "      <td>0.314286</td>\n",
       "      <td>1.826545</td>\n",
       "    </tr>\n",
       "    <tr>\n",
       "      <th>5</th>\n",
       "      <td>ANN</td>\n",
       "      <td>0.355634</td>\n",
       "      <td>10.358670</td>\n",
       "    </tr>\n",
       "    <tr>\n",
       "      <th>6</th>\n",
       "      <td>KNN</td>\n",
       "      <td>0.256016</td>\n",
       "      <td>0.237399</td>\n",
       "    </tr>\n",
       "    <tr>\n",
       "      <th>7</th>\n",
       "      <td>LGB</td>\n",
       "      <td>0.355634</td>\n",
       "      <td>4.796592</td>\n",
       "    </tr>\n",
       "  </tbody>\n",
       "</table>\n",
       "</div>"
      ],
      "text/plain": [
       "        Algorithm       BoW       time\n",
       "0     Gaussian NB  0.236076   0.302705\n",
       "1  Multinomial NB  0.320181   0.397481\n",
       "2   Decision Tree  0.303078   0.539127\n",
       "3             SVM  0.295915   1.185465\n",
       "4        AdaBoost  0.314286   1.826545\n",
       "5             ANN  0.355634  10.358670\n",
       "6             KNN  0.256016   0.237399\n",
       "7             LGB  0.355634   4.796592"
      ]
     },
     "execution_count": 496,
     "metadata": {},
     "output_type": "execute_result"
    }
   ],
   "source": [
    "models = [GaussianNB(), MultinomialNB(), DecisionTreeClassifier(), LinearSVC(), \n",
    "          AdaBoostClassifier(base_estimator=DecisionTreeClassifier(), n_estimators=5),\n",
    "         MLPClassifier(hidden_layer_sizes=(10,)), KNeighborsClassifier(), LGBMClassifier()]\n",
    "\n",
    "names = [\"Gaussian NB\", \"Multinomial NB\", \"Decision Tree\", \"SVC\", \"AdaBoost\", \"ANN\", 'KNN', 'LGB']\n",
    "\n",
    "acc_scores = []\n",
    "f1_scores = []\n",
    "exec_times = []\n",
    "\n",
    "for model, name in zip(models, names):\n",
    "    print(name)\n",
    "    start = time.time()\n",
    "    scoring = {\n",
    "        'acc': 'accuracy',\n",
    "        'f1_mac': 'f1_macro',\n",
    "    }\n",
    "    scores = cross_validate(model, X_train_bow, y_train, cv=10, n_jobs=4, scoring=scoring)\n",
    "    training_time = (time.time() - start)\n",
    "    print(\"accuracy: \", scores['test_acc'].mean())\n",
    "    print(\"f1_score: \", scores['test_f1_mac'].mean())\n",
    "    print(\"time (sec): \", training_time)\n",
    "    print(\"\\n\")\n",
    "    \n",
    "    acc_scores.append(scores['test_acc'].mean())\n",
    "    f1_scores.append(scores['test_f1_mac'].mean())\n",
    "    exec_times.append(training_time)\n",
    "    \n",
    "acc_df['BoW'] = acc_scores\n",
    "f1_df['BoW'] = f1_scores\n",
    "acc_df['time'] = exec_times\n",
    "acc_df"
   ]
  },
  {
   "cell_type": "markdown",
   "metadata": {},
   "source": [
    "### Using TF-IDF"
   ]
  },
  {
   "cell_type": "code",
   "execution_count": 497,
   "metadata": {},
   "outputs": [
    {
     "name": "stdout",
     "output_type": "stream",
     "text": [
      "X_train_tf.shape:  (703, 2766)\n",
      "Execution time (sec):  0.10550212860107422\n"
     ]
    }
   ],
   "source": [
    "start = time.time()\n",
    "vectorizer = TfidfVectorizer(min_df=5, max_features=5000)\n",
    "X_train_tf = vectorizer.fit_transform(X_train)\n",
    "\n",
    "X_train_tf = X_train_tf.toarray()\n",
    "print('X_train_tf.shape: ', X_train_tf.shape)\n",
    "\n",
    "end = time.time()\n",
    "print(\"Execution time (sec): \", (end - start))"
   ]
  },
  {
   "cell_type": "code",
   "execution_count": 498,
   "metadata": {
    "scrolled": false
   },
   "outputs": [
    {
     "name": "stdout",
     "output_type": "stream",
     "text": [
      "Gaussian NB\n",
      "accuracy:  0.24307847082494968\n",
      "f1_score:  0.1643207218429053\n",
      "time (sec):  0.29660844802856445\n",
      "\n",
      "\n",
      "Multinomial NB\n",
      "accuracy:  0.2759356136820925\n",
      "f1_score:  0.11197179298460443\n",
      "time (sec):  0.16919898986816406\n",
      "\n",
      "\n",
      "Decision Tree\n",
      "accuracy:  0.30012072434607645\n",
      "f1_score:  0.20510360536519717\n",
      "time (sec):  0.6952595710754395\n",
      "\n",
      "\n",
      "SVM\n",
      "accuracy:  0.3498189134808853\n",
      "f1_score:  0.2428286079599548\n",
      "time (sec):  0.3494570255279541\n",
      "\n",
      "\n",
      "AdaBoost\n",
      "accuracy:  0.27450704225352107\n",
      "f1_score:  0.18348233798021532\n",
      "time (sec):  2.2353360652923584\n",
      "\n",
      "\n",
      "ANN\n",
      "accuracy:  0.35418511066398395\n",
      "f1_score:  0.23069861536421704\n",
      "time (sec):  10.33318543434143\n",
      "\n",
      "\n",
      "KNN\n",
      "accuracy:  0.31138832997987925\n",
      "f1_score:  0.2089755370568512\n",
      "time (sec):  0.22267389297485352\n",
      "\n",
      "\n",
      "LGB\n",
      "accuracy:  0.36710261569416497\n",
      "f1_score:  0.25095283861466905\n",
      "time (sec):  9.36580204963684\n",
      "\n",
      "\n"
     ]
    },
    {
     "data": {
      "text/html": [
       "<div>\n",
       "<style scoped>\n",
       "    .dataframe tbody tr th:only-of-type {\n",
       "        vertical-align: middle;\n",
       "    }\n",
       "\n",
       "    .dataframe tbody tr th {\n",
       "        vertical-align: top;\n",
       "    }\n",
       "\n",
       "    .dataframe thead th {\n",
       "        text-align: right;\n",
       "    }\n",
       "</style>\n",
       "<table border=\"1\" class=\"dataframe\">\n",
       "  <thead>\n",
       "    <tr style=\"text-align: right;\">\n",
       "      <th></th>\n",
       "      <th>Algorithm</th>\n",
       "      <th>BoW</th>\n",
       "      <th>time</th>\n",
       "      <th>TfIdf</th>\n",
       "      <th>TfIdf_time</th>\n",
       "    </tr>\n",
       "  </thead>\n",
       "  <tbody>\n",
       "    <tr>\n",
       "      <th>0</th>\n",
       "      <td>Gaussian NB</td>\n",
       "      <td>0.236076</td>\n",
       "      <td>0.302705</td>\n",
       "      <td>0.243078</td>\n",
       "      <td>0.296608</td>\n",
       "    </tr>\n",
       "    <tr>\n",
       "      <th>1</th>\n",
       "      <td>Multinomial NB</td>\n",
       "      <td>0.320181</td>\n",
       "      <td>0.397481</td>\n",
       "      <td>0.275936</td>\n",
       "      <td>0.169199</td>\n",
       "    </tr>\n",
       "    <tr>\n",
       "      <th>2</th>\n",
       "      <td>Decision Tree</td>\n",
       "      <td>0.303078</td>\n",
       "      <td>0.539127</td>\n",
       "      <td>0.300121</td>\n",
       "      <td>0.695260</td>\n",
       "    </tr>\n",
       "    <tr>\n",
       "      <th>3</th>\n",
       "      <td>SVM</td>\n",
       "      <td>0.295915</td>\n",
       "      <td>1.185465</td>\n",
       "      <td>0.349819</td>\n",
       "      <td>0.349457</td>\n",
       "    </tr>\n",
       "    <tr>\n",
       "      <th>4</th>\n",
       "      <td>AdaBoost</td>\n",
       "      <td>0.314286</td>\n",
       "      <td>1.826545</td>\n",
       "      <td>0.274507</td>\n",
       "      <td>2.235336</td>\n",
       "    </tr>\n",
       "    <tr>\n",
       "      <th>5</th>\n",
       "      <td>ANN</td>\n",
       "      <td>0.355634</td>\n",
       "      <td>10.358670</td>\n",
       "      <td>0.354185</td>\n",
       "      <td>10.333185</td>\n",
       "    </tr>\n",
       "    <tr>\n",
       "      <th>6</th>\n",
       "      <td>KNN</td>\n",
       "      <td>0.256016</td>\n",
       "      <td>0.237399</td>\n",
       "      <td>0.311388</td>\n",
       "      <td>0.222674</td>\n",
       "    </tr>\n",
       "    <tr>\n",
       "      <th>7</th>\n",
       "      <td>LGB</td>\n",
       "      <td>0.355634</td>\n",
       "      <td>4.796592</td>\n",
       "      <td>0.367103</td>\n",
       "      <td>9.365802</td>\n",
       "    </tr>\n",
       "  </tbody>\n",
       "</table>\n",
       "</div>"
      ],
      "text/plain": [
       "        Algorithm       BoW       time     TfIdf  TfIdf_time\n",
       "0     Gaussian NB  0.236076   0.302705  0.243078    0.296608\n",
       "1  Multinomial NB  0.320181   0.397481  0.275936    0.169199\n",
       "2   Decision Tree  0.303078   0.539127  0.300121    0.695260\n",
       "3             SVM  0.295915   1.185465  0.349819    0.349457\n",
       "4        AdaBoost  0.314286   1.826545  0.274507    2.235336\n",
       "5             ANN  0.355634  10.358670  0.354185   10.333185\n",
       "6             KNN  0.256016   0.237399  0.311388    0.222674\n",
       "7             LGB  0.355634   4.796592  0.367103    9.365802"
      ]
     },
     "execution_count": 498,
     "metadata": {},
     "output_type": "execute_result"
    }
   ],
   "source": [
    "models = [GaussianNB(), MultinomialNB(), DecisionTreeClassifier(), LinearSVC(), \n",
    "          AdaBoostClassifier(base_estimator=DecisionTreeClassifier(), n_estimators=5),\n",
    "         MLPClassifier(hidden_layer_sizes=(10,)), KNeighborsClassifier(), LGBMClassifier()]\n",
    "\n",
    "names = [\"Gaussian NB\", \"Multinomial NB\", \"Decision Tree\", \"SVC\", \"AdaBoost\", \"ANN\", 'KNN', 'LGB']\n",
    "\n",
    "acc_scores = []\n",
    "f1_scores = []\n",
    "exec_times = []\n",
    "\n",
    "for model, name in zip(models, names):\n",
    "    print(name)\n",
    "    start = time.time()\n",
    "    scoring = {\n",
    "        'acc': 'accuracy',\n",
    "        'f1_mac': 'f1_macro',\n",
    "    }\n",
    "    scores = cross_validate(model, X_train_tf, y_train, cv=10, n_jobs=4, scoring=scoring)\n",
    "    training_time = (time.time() - start)\n",
    "    print(\"accuracy: \", scores['test_acc'].mean())\n",
    "    print(\"f1_score: \", scores['test_f1_mac'].mean())\n",
    "    print(\"time (sec): \", training_time)\n",
    "    print(\"\\n\")\n",
    "    \n",
    "    acc_scores.append(scores['test_acc'].mean())\n",
    "    f1_scores.append(scores['test_f1_mac'].mean())\n",
    "    exec_times.append(training_time)\n",
    "    \n",
    "acc_df['TfIdf'] = acc_scores\n",
    "f1_df['TfIdf'] = f1_scores\n",
    "acc_df['TfIdf_time'] = exec_times\n",
    "acc_df"
   ]
  },
  {
   "cell_type": "markdown",
   "metadata": {},
   "source": [
    "We conclude that `LinearSVC` with TF-IDF has the best performance-duration ratio. \n",
    "\n",
    "The score is low, maybe due to the low volume of data (only 879 rows for 13 classes). \n",
    "\n",
    "We decide to optimize the model by tuning the hyperparameters using GridSearchCV. "
   ]
  },
  {
   "cell_type": "markdown",
   "metadata": {},
   "source": [
    "### Model tuning"
   ]
  },
  {
   "cell_type": "code",
   "execution_count": 499,
   "metadata": {},
   "outputs": [],
   "source": [
    "# optimizing the \"best\" estimator\n",
    "\n",
    "#param_grid = {'kernel':('linear', 'rbf'), 'C':[1, 10]}\n",
    "\n",
    "\n",
    "param_grid = [{'C': [1, 10, 100, 1000],\n",
    "               'class_weight': ['balanced', 'None'],  \n",
    "               'fit_intercept': ['True', 'False'], \n",
    "               'intercept_scaling': [1, 5, 10], \n",
    "               'tol': [0.1, 0.2, 0.4, 0.8, 1]\n",
    "              }]\n",
    "\n",
    "grid = GridSearchCV(LinearSVC(), param_grid, cv=5, n_jobs=8)"
   ]
  },
  {
   "cell_type": "code",
   "execution_count": 505,
   "metadata": {},
   "outputs": [
    {
     "name": "stdout",
     "output_type": "stream",
     "text": [
      "X_train_f.shape:  (703, 2766)\n",
      "X_test_f.shape:  (176, 2766)\n",
      "y_test.shape:  (176, 2766)\n"
     ]
    }
   ],
   "source": [
    "# prepare the data \n",
    "\n",
    "vectorizer = TfidfVectorizer(min_df=5, max_features=5000)\n",
    "X_train_f = vectorizer.fit_transform(X_train)\n",
    "X_test_f = vectorizer.transform(X_test)\n",
    "\n",
    "\n",
    "X_train_f = X_train_f.toarray()\n",
    "X_test_f = X_test_f.toarray()\n",
    "\n",
    "# ______\n",
    "\n",
    "\n",
    "print('X_train_f.shape: ', X_train_f.shape)\n",
    "print('X_test_f.shape: ', X_test_f.shape)\n",
    "print('y_test.shape: ', X_test_f.shape)"
   ]
  },
  {
   "cell_type": "code",
   "execution_count": 501,
   "metadata": {
    "scrolled": true
   },
   "outputs": [
    {
     "data": {
      "text/plain": [
       "GridSearchCV(cv=5, estimator=LinearSVC(), n_jobs=8,\n",
       "             param_grid=[{'C': [1, 10, 100, 1000],\n",
       "                          'class_weight': ['balanced', 'None'],\n",
       "                          'fit_intercept': ['True', 'False'],\n",
       "                          'intercept_scaling': [1, 5, 10],\n",
       "                          'tol': [0.1, 0.2, 0.4, 0.8, 1]}])"
      ]
     },
     "execution_count": 501,
     "metadata": {},
     "output_type": "execute_result"
    }
   ],
   "source": [
    "# training\n",
    "grid.fit(X_train_f, y_train)"
   ]
  },
  {
   "cell_type": "code",
   "execution_count": 502,
   "metadata": {},
   "outputs": [
    {
     "data": {
      "text/plain": [
       "0.3612867274569402"
      ]
     },
     "execution_count": 502,
     "metadata": {},
     "output_type": "execute_result"
    }
   ],
   "source": [
    "# Best score\n",
    "grid.best_score_"
   ]
  },
  {
   "cell_type": "code",
   "execution_count": 503,
   "metadata": {},
   "outputs": [
    {
     "data": {
      "text/plain": [
       "LinearSVC(C=1, class_weight='balanced', fit_intercept='True',\n",
       "          intercept_scaling=5, tol=0.8)"
      ]
     },
     "execution_count": 503,
     "metadata": {},
     "output_type": "execute_result"
    }
   ],
   "source": [
    "# Best estimator/hyperparameters\n",
    "model = grid.best_estimator_\n",
    "model"
   ]
  },
  {
   "cell_type": "code",
   "execution_count": 506,
   "metadata": {},
   "outputs": [
    {
     "data": {
      "text/plain": [
       "0.4034090909090909"
      ]
     },
     "execution_count": 506,
     "metadata": {},
     "output_type": "execute_result"
    }
   ],
   "source": [
    "model.score(X_test_f, y_test)"
   ]
  },
  {
   "cell_type": "code",
   "execution_count": 527,
   "metadata": {},
   "outputs": [
    {
     "data": {
      "image/png": "[encoded data removed]",
      "text/plain": [
       "<Figure size 720x720 with 2 Axes>"
      ]
     },
     "metadata": {
      "needs_background": "light"
     },
     "output_type": "display_data"
    }
   ],
   "source": [
    "# Confusion matrix of correct/incorrect estimates\n",
    "\n",
    "fig, ax = plt.subplots(figsize=(10, 10))\n",
    "\n",
    "matrix_lr = plot_confusion_matrix(grid, X_test_f, y_test,\n",
    "                                 cmap=plt.cm.Blues, ax=ax)\n",
    "\n",
    "plt.title('Confusion matrix for LinearSVC')\n",
    "plt.show(matrix_lr)\n",
    "plt.show()"
   ]
  },
  {
   "cell_type": "code",
   "execution_count": null,
   "metadata": {},
   "outputs": [],
   "source": []
  }
 ],
 "metadata": {
  "kernelspec": {
   "display_name": "Python 3",
   "language": "python",
   "name": "python3"
  },
  "language_info": {
   "codemirror_mode": {
    "name": "ipython",
    "version": 3
   },
   "file_extension": ".py",
   "mimetype": "text/x-python",
   "name": "python",
   "nbconvert_exporter": "python",
   "pygments_lexer": "ipython3",
   "version": "3.9.8"
  }
 },
 "nbformat": 4,
 "nbformat_minor": 4
}
